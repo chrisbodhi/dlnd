{
 "cells": [
  {
   "cell_type": "markdown",
   "metadata": {
    "deletable": true,
    "editable": true
   },
   "source": [
    "# TV Script Generation\n",
    "In this project, you'll generate your own [Simpsons](https://en.wikipedia.org/wiki/The_Simpsons) TV scripts using RNNs.  You'll be using part of the [Simpsons dataset](https://www.kaggle.com/wcukierski/the-simpsons-by-the-data) of scripts from 27 seasons.  The Neural Network you'll build will generate a new TV script for a scene at [Moe's Tavern](https://simpsonswiki.com/wiki/Moe's_Tavern).\n",
    "## Get the Data\n",
    "The data is already provided for you.  You'll be using a subset of the original dataset.  It consists of only the scenes in Moe's Tavern.  This doesn't include other versions of the tavern, like \"Moe's Cavern\", \"Flaming Moe's\", \"Uncle Moe's Family Feed-Bag\", etc.."
   ]
  },
  {
   "cell_type": "code",
   "execution_count": 69,
   "metadata": {
    "collapsed": false,
    "deletable": true,
    "editable": true
   },
   "outputs": [
    {
     "name": "stdout",
     "output_type": "stream",
     "text": [
      "The jupyternotify extension is already loaded. To reload it, use:\n",
      "  %reload_ext jupyternotify\n"
     ]
    }
   ],
   "source": [
    "%load_ext jupyternotify"
   ]
  },
  {
   "cell_type": "code",
   "execution_count": 70,
   "metadata": {
    "collapsed": false,
    "deletable": true,
    "editable": true
   },
   "outputs": [],
   "source": [
    "\"\"\"\n",
    "DON'T MODIFY ANYTHING IN THIS CELL\n",
    "\"\"\"\n",
    "import helper\n",
    "\n",
    "data_dir = './data/simpsons/moes_tavern_lines.txt'\n",
    "text = helper.load_data(data_dir)\n",
    "# Ignore notice, since we don't use it for analysing the data\n",
    "text = text[81:]"
   ]
  },
  {
   "cell_type": "markdown",
   "metadata": {
    "deletable": true,
    "editable": true
   },
   "source": [
    "## Explore the Data\n",
    "Play around with `view_sentence_range` to view different parts of the data."
   ]
  },
  {
   "cell_type": "code",
   "execution_count": 71,
   "metadata": {
    "collapsed": false,
    "deletable": true,
    "editable": true
   },
   "outputs": [
    {
     "name": "stdout",
     "output_type": "stream",
     "text": [
      "Dataset Stats\n",
      "Roughly the number of unique words: 11492\n",
      "Number of scenes: 262\n",
      "Average number of sentences in each scene: 15.248091603053435\n",
      "Number of lines: 4257\n",
      "Average number of words in each line: 11.50434578341555\n",
      "\n",
      "The sentences 90 to 100:\n",
      "Moe_Szyslak: It's not without its charm.\n",
      "Homer_Simpson: Try lighting it on fire.\n",
      "Moe_Szyslak: (SMILING) Whoa! Homer, it's like there's a party in my mouth and everyone's invited.\n",
      "Larry: Hey, your Love Tester's busted. I want my nickel back. (COUGHS)\n",
      "Moe_Szyslak: Hey, buddy. Have one on the house.\n",
      "Larry: Hey, hey, this drink is delicious! And my phlegm feels looser. What do you call it?\n",
      "Homer_Simpson: Well, it's called a \"Flaming...\n",
      "Moe_Szyslak: Moe! It's called a \"Flaming Moe\"! That's right, a \"Flaming Moe\". My name is Moe, and I invented it. That's why it's called a Flaming Moe. What? What are you lookin' at, Homer? It's a Flaming Moe I'm Moe.\n",
      "Barney_Gumble: Hey, what's this?\n",
      "Moe_Szyslak: A sneeze guard.\n"
     ]
    }
   ],
   "source": [
    "view_sentence_range = (90, 100)\n",
    "\n",
    "\"\"\"\n",
    "DON'T MODIFY ANYTHING IN THIS CELL\n",
    "\"\"\"\n",
    "import numpy as np\n",
    "\n",
    "print('Dataset Stats')\n",
    "print('Roughly the number of unique words: {}'.format(len({word: None for word in text.split()})))\n",
    "scenes = text.split('\\n\\n')\n",
    "print('Number of scenes: {}'.format(len(scenes)))\n",
    "sentence_count_scene = [scene.count('\\n') for scene in scenes]\n",
    "print('Average number of sentences in each scene: {}'.format(np.average(sentence_count_scene)))\n",
    "\n",
    "sentences = [sentence for scene in scenes for sentence in scene.split('\\n')]\n",
    "print('Number of lines: {}'.format(len(sentences)))\n",
    "word_count_sentence = [len(sentence.split()) for sentence in sentences]\n",
    "print('Average number of words in each line: {}'.format(np.average(word_count_sentence)))\n",
    "\n",
    "print()\n",
    "print('The sentences {} to {}:'.format(*view_sentence_range))\n",
    "print('\\n'.join(text.split('\\n')[view_sentence_range[0]:view_sentence_range[1]]))"
   ]
  },
  {
   "cell_type": "markdown",
   "metadata": {
    "deletable": true,
    "editable": true
   },
   "source": [
    "## Implement Preprocessing Functions\n",
    "The first thing to do to any dataset is preprocessing.  Implement the following preprocessing functions below:\n",
    "- Lookup Table\n",
    "- Tokenize Punctuation\n",
    "\n",
    "### Lookup Table\n",
    "To create a word embedding, you first need to transform the words to ids.  In this function, create two dictionaries:\n",
    "- Dictionary to go from the words to an id, we'll call `vocab_to_int`\n",
    "- Dictionary to go from the id to word, we'll call `int_to_vocab`\n",
    "\n",
    "Return these dictionaries in the following tuple `(vocab_to_int, int_to_vocab)`"
   ]
  },
  {
   "cell_type": "code",
   "execution_count": 72,
   "metadata": {
    "collapsed": false,
    "deletable": true,
    "editable": true
   },
   "outputs": [
    {
     "name": "stdout",
     "output_type": "stream",
     "text": [
      "Tests Passed\n"
     ]
    }
   ],
   "source": [
    "import numpy as np\n",
    "import problem_unittests as tests\n",
    "\n",
    "def create_lookup_tables(text):\n",
    "    \"\"\"\n",
    "    Create lookup tables for vocabulary\n",
    "    :param text: The text of tv scripts split into words\n",
    "    :return: A tuple of dicts (vocab_to_int, int_to_vocab)\n",
    "    \"\"\"\n",
    "    vocab = set(text)\n",
    "    vocab_to_int = {word: ind for ind, word in enumerate(vocab)}\n",
    "    int_to_vocab = dict(enumerate(vocab))\n",
    "    return vocab_to_int, int_to_vocab\n",
    "\n",
    "\n",
    "\"\"\"\n",
    "DON'T MODIFY ANYTHING IN THIS CELL THAT IS BELOW THIS LINE\n",
    "\"\"\"\n",
    "tests.test_create_lookup_tables(create_lookup_tables)"
   ]
  },
  {
   "cell_type": "markdown",
   "metadata": {
    "deletable": true,
    "editable": true
   },
   "source": [
    "### Tokenize Punctuation\n",
    "We'll be splitting the script into a word array using spaces as delimiters.  However, punctuations like periods and exclamation marks make it hard for the neural network to distinguish between the word \"bye\" and \"bye!\".\n",
    "\n",
    "Implement the function `token_lookup` to return a dict that will be used to tokenize symbols like \"!\" into \"||Exclamation_Mark||\".  Create a dictionary for the following symbols where the symbol is the key and value is the token:\n",
    "- Period ( . )\n",
    "- Comma ( , )\n",
    "- Quotation Mark ( \" )\n",
    "- Semicolon ( ; )\n",
    "- Exclamation mark ( ! )\n",
    "- Question mark ( ? )\n",
    "- Left Parentheses ( ( )\n",
    "- Right Parentheses ( ) )\n",
    "- Dash ( -- )\n",
    "- Return ( \\n )\n",
    "\n",
    "This dictionary will be used to token the symbols and add the delimiter (space) around it.  This separates the symbols as it's own word, making it easier for the neural network to predict on the next word. Make sure you don't use a token that could be confused as a word. Instead of using the token \"dash\", try using something like \"||dash||\"."
   ]
  },
  {
   "cell_type": "code",
   "execution_count": 73,
   "metadata": {
    "collapsed": false,
    "deletable": true,
    "editable": true
   },
   "outputs": [
    {
     "name": "stdout",
     "output_type": "stream",
     "text": [
      "Tests Passed\n"
     ]
    }
   ],
   "source": [
    "def token_lookup():\n",
    "    \"\"\"\n",
    "    Generate a dict to turn punctuation into a token.\n",
    "    :return: Tokenize dictionary where the key is the punctuation and the value is the token\n",
    "    \"\"\"\n",
    "    punctuation_dict = {\n",
    "        '.': '||period||',\n",
    "        ',': '||comma||',\n",
    "        '\"': '||quotation_mark||',\n",
    "        ';': '||semicolon||',\n",
    "        '!': '||exclamation_mark||',\n",
    "        '?': '||question_mark||',\n",
    "        ')': '||right_parentheses||',\n",
    "        '--': '||dash||',\n",
    "        '\\n': '||return||',\n",
    "        '(': '||left_parentheses||'\n",
    "    }\n",
    "    return punctuation_dict\n",
    "\n",
    "\"\"\"\n",
    "DON'T MODIFY ANYTHING IN THIS CELL THAT IS BELOW THIS LINE\n",
    "\"\"\"\n",
    "tests.test_tokenize(token_lookup)"
   ]
  },
  {
   "cell_type": "markdown",
   "metadata": {
    "deletable": true,
    "editable": true
   },
   "source": [
    "## Preprocess all the data and save it\n",
    "Running the code cell below will preprocess all the data and save it to file."
   ]
  },
  {
   "cell_type": "code",
   "execution_count": 74,
   "metadata": {
    "collapsed": false,
    "deletable": true,
    "editable": true
   },
   "outputs": [],
   "source": [
    "\"\"\"\n",
    "DON'T MODIFY ANYTHING IN THIS CELL\n",
    "\"\"\"\n",
    "# Preprocess Training, Validation, and Testing Data\n",
    "helper.preprocess_and_save_data(data_dir, token_lookup, create_lookup_tables)"
   ]
  },
  {
   "cell_type": "markdown",
   "metadata": {
    "deletable": true,
    "editable": true
   },
   "source": [
    "# Check Point\n",
    "This is your first checkpoint. If you ever decide to come back to this notebook or have to restart the notebook, you can start from here. The preprocessed data has been saved to disk."
   ]
  },
  {
   "cell_type": "code",
   "execution_count": 75,
   "metadata": {
    "collapsed": false,
    "deletable": true,
    "editable": true
   },
   "outputs": [],
   "source": [
    "\"\"\"\n",
    "DON'T MODIFY ANYTHING IN THIS CELL\n",
    "\"\"\"\n",
    "import helper\n",
    "import numpy as np\n",
    "import problem_unittests as tests\n",
    "\n",
    "int_text, vocab_to_int, int_to_vocab, token_dict = helper.load_preprocess()"
   ]
  },
  {
   "cell_type": "markdown",
   "metadata": {
    "deletable": true,
    "editable": true
   },
   "source": [
    "## Build the Neural Network\n",
    "You'll build the components necessary to build a RNN by implementing the following functions below:\n",
    "- get_inputs\n",
    "- get_init_cell\n",
    "- get_embed\n",
    "- build_rnn\n",
    "- build_nn\n",
    "- get_batches\n",
    "\n",
    "### Check the Version of TensorFlow and Access to GPU"
   ]
  },
  {
   "cell_type": "code",
   "execution_count": 76,
   "metadata": {
    "collapsed": false,
    "deletable": true,
    "editable": true
   },
   "outputs": [
    {
     "name": "stdout",
     "output_type": "stream",
     "text": [
      "TensorFlow Version: 1.1.0\n",
      "Default GPU Device: /gpu:0\n"
     ]
    }
   ],
   "source": [
    "\"\"\"\n",
    "DON'T MODIFY ANYTHING IN THIS CELL\n",
    "\"\"\"\n",
    "from distutils.version import LooseVersion\n",
    "import warnings\n",
    "import tensorflow as tf\n",
    "\n",
    "# Check TensorFlow Version\n",
    "assert LooseVersion(tf.__version__) >= LooseVersion('1.0'), 'Please use TensorFlow version 1.0 or newer'\n",
    "print('TensorFlow Version: {}'.format(tf.__version__))\n",
    "\n",
    "# Check for a GPU\n",
    "if not tf.test.gpu_device_name():\n",
    "    warnings.warn('No GPU found. Please use a GPU to train your neural network.')\n",
    "else:\n",
    "    print('Default GPU Device: {}'.format(tf.test.gpu_device_name()))"
   ]
  },
  {
   "cell_type": "markdown",
   "metadata": {
    "deletable": true,
    "editable": true
   },
   "source": [
    "### Input\n",
    "Implement the `get_inputs()` function to create TF Placeholders for the Neural Network.  It should create the following placeholders:\n",
    "- Input text placeholder named \"input\" using the [TF Placeholder](https://www.tensorflow.org/api_docs/python/tf/placeholder) `name` parameter.\n",
    "- Targets placeholder\n",
    "- Learning Rate placeholder\n",
    "\n",
    "Return the placeholders in the following tuple `(Input, Targets, LearningRate)`"
   ]
  },
  {
   "cell_type": "code",
   "execution_count": 77,
   "metadata": {
    "collapsed": false,
    "deletable": true,
    "editable": true
   },
   "outputs": [
    {
     "name": "stdout",
     "output_type": "stream",
     "text": [
      "Tests Passed\n"
     ]
    }
   ],
   "source": [
    "def get_inputs():\n",
    "    \"\"\"\n",
    "    Create TF Placeholders for input, targets, and learning rate.\n",
    "    :return: Tuple (input, targets, learning rate)\n",
    "    \"\"\"\n",
    "    input_data = tf.placeholder(tf.int32, shape=[None, None], name='input')\n",
    "    targets = tf.placeholder(tf.int32, shape=[None, None], name='targets')\n",
    "    learning_rate = tf.placeholder(tf.float32, name='learning_rate')\n",
    "    return input_data, targets, learning_rate\n",
    "\n",
    "\n",
    "\"\"\"\n",
    "DON'T MODIFY ANYTHING IN THIS CELL THAT IS BELOW THIS LINE\n",
    "\"\"\"\n",
    "tests.test_get_inputs(get_inputs)"
   ]
  },
  {
   "cell_type": "markdown",
   "metadata": {
    "deletable": true,
    "editable": true
   },
   "source": [
    "### Build RNN Cell and Initialize\n",
    "Stack one or more [`BasicLSTMCells`](https://www.tensorflow.org/api_docs/python/tf/contrib/rnn/BasicLSTMCell) in a [`MultiRNNCell`](https://www.tensorflow.org/api_docs/python/tf/contrib/rnn/MultiRNNCell).\n",
    "- The Rnn size should be set using `rnn_size`\n",
    "- Initalize Cell State using the MultiRNNCell's [`zero_state()`](https://www.tensorflow.org/api_docs/python/tf/contrib/rnn/MultiRNNCell#zero_state) function\n",
    "    - Apply the name \"initial_state\" to the initial state using [`tf.identity()`](https://www.tensorflow.org/api_docs/python/tf/identity)\n",
    "\n",
    "Return the cell and initial state in the following tuple `(Cell, InitialState)`"
   ]
  },
  {
   "cell_type": "code",
   "execution_count": 78,
   "metadata": {
    "collapsed": false,
    "deletable": true,
    "editable": true
   },
   "outputs": [
    {
     "name": "stdout",
     "output_type": "stream",
     "text": [
      "Tests Passed\n"
     ]
    }
   ],
   "source": [
    "def get_init_cell(batch_size, rnn_size):\n",
    "    \"\"\"\n",
    "    Create an RNN Cell and initialize it.\n",
    "    :param batch_size: Size of batches\n",
    "    :param rnn_size: Size of RNNs\n",
    "    :return: Tuple (cell, initialize state)\n",
    "    \"\"\"\n",
    "    cell = tf.contrib.rnn.MultiRNNCell([tf.contrib.rnn.BasicLSTMCell(rnn_size) for _ in range(2)])\n",
    "\n",
    "    init_state = cell.zero_state(batch_size, tf.float32)\n",
    "    init_state = tf.identity(init_state, name='initial_state')\n",
    "\n",
    "    return cell, init_state\n",
    "\n",
    "\n",
    "\"\"\"\n",
    "DON'T MODIFY ANYTHING IN THIS CELL THAT IS BELOW THIS LINE\n",
    "\"\"\"\n",
    "tests.test_get_init_cell(get_init_cell)"
   ]
  },
  {
   "cell_type": "markdown",
   "metadata": {
    "deletable": true,
    "editable": true
   },
   "source": [
    "### Word Embedding\n",
    "Apply embedding to `input_data` using TensorFlow.  Return the embedded sequence."
   ]
  },
  {
   "cell_type": "code",
   "execution_count": 79,
   "metadata": {
    "collapsed": false,
    "deletable": true,
    "editable": true
   },
   "outputs": [
    {
     "name": "stdout",
     "output_type": "stream",
     "text": [
      "Tests Passed\n"
     ]
    }
   ],
   "source": [
    "def get_embed(input_data, vocab_size, embed_dim):\n",
    "    \"\"\"\n",
    "    Create embedding for <input_data>.\n",
    "    :param input_data: TF placeholder for text input.\n",
    "    :param vocab_size: Number of words in vocabulary.\n",
    "    :param embed_dim: Number of embedding dimensions\n",
    "    :return: Embedded input.\n",
    "    \"\"\"\n",
    "    embedding = tf.Variable(tf.random_uniform([vocab_size, embed_dim], -1, 1))\n",
    "    embed = tf.nn.embedding_lookup(embedding, input_data)\n",
    "    return embed\n",
    "\n",
    "\n",
    "\"\"\"\n",
    "DON'T MODIFY ANYTHING IN THIS CELL THAT IS BELOW THIS LINE\n",
    "\"\"\"\n",
    "tests.test_get_embed(get_embed)"
   ]
  },
  {
   "cell_type": "markdown",
   "metadata": {
    "deletable": true,
    "editable": true
   },
   "source": [
    "### Build RNN\n",
    "You created a RNN Cell in the `get_init_cell()` function.  Time to use the cell to create a RNN.\n",
    "- Build the RNN using the [`tf.nn.dynamic_rnn()`](https://www.tensorflow.org/api_docs/python/tf/nn/dynamic_rnn)\n",
    " - Apply the name \"final_state\" to the final state using [`tf.identity()`](https://www.tensorflow.org/api_docs/python/tf/identity)\n",
    "\n",
    "Return the outputs and final_state state in the following tuple `(Outputs, FinalState)` "
   ]
  },
  {
   "cell_type": "code",
   "execution_count": 80,
   "metadata": {
    "collapsed": false,
    "deletable": true,
    "editable": true
   },
   "outputs": [
    {
     "name": "stdout",
     "output_type": "stream",
     "text": [
      "Tests Passed\n"
     ]
    }
   ],
   "source": [
    "def build_rnn(cell, inputs):\n",
    "    \"\"\"\n",
    "    Create a RNN using a RNN Cell\n",
    "    :param cell: RNN Cell\n",
    "    :param inputs: Input text data\n",
    "    :return: Tuple (Outputs, Final State)\n",
    "    \"\"\"\n",
    "    outputs, final_state = tf.nn.dynamic_rnn(cell, inputs, dtype=tf.float32)\n",
    "    final_state = tf.identity(final_state, name='final_state')\n",
    "    return outputs, final_state\n",
    "\n",
    "\n",
    "\"\"\"\n",
    "DON'T MODIFY ANYTHING IN THIS CELL THAT IS BELOW THIS LINE\n",
    "\"\"\"\n",
    "tests.test_build_rnn(build_rnn)"
   ]
  },
  {
   "cell_type": "markdown",
   "metadata": {
    "deletable": true,
    "editable": true
   },
   "source": [
    "### Build the Neural Network\n",
    "Apply the functions you implemented above to:\n",
    "- Apply embedding to `input_data` using your `get_embed(input_data, vocab_size, embed_dim)` function.\n",
    "- Build RNN using `cell` and your `build_rnn(cell, inputs)` function.\n",
    "- Apply a fully connected layer with a linear activation and `vocab_size` as the number of outputs.\n",
    "\n",
    "Return the logits and final state in the following tuple (Logits, FinalState) "
   ]
  },
  {
   "cell_type": "code",
   "execution_count": 81,
   "metadata": {
    "collapsed": false,
    "deletable": true,
    "editable": true
   },
   "outputs": [
    {
     "name": "stdout",
     "output_type": "stream",
     "text": [
      "Tests Passed\n"
     ]
    }
   ],
   "source": [
    "def build_nn(cell, rnn_size, input_data, vocab_size, embed_dim):\n",
    "    \"\"\"\n",
    "    Build part of the neural network\n",
    "    :param cell: RNN cell\n",
    "    :param rnn_size: Size of rnns\n",
    "    :param input_data: Input data\n",
    "    :param vocab_size: Vocabulary size\n",
    "    :param embed_dim: Number of embedding dimensions\n",
    "    :return: Tuple (Logits, FinalState)\n",
    "    \"\"\"\n",
    "    embed = get_embed(input_data, vocab_size, embed_dim)\n",
    "    outputs, final_state = build_rnn(cell, embed)\n",
    "    logits = tf.contrib.layers.fully_connected(outputs, vocab_size, activation_fn=None)\n",
    "    return logits, final_state\n",
    "\n",
    "\n",
    "\"\"\"\n",
    "DON'T MODIFY ANYTHING IN THIS CELL THAT IS BELOW THIS LINE\n",
    "\"\"\"\n",
    "tests.test_build_nn(build_nn)"
   ]
  },
  {
   "cell_type": "markdown",
   "metadata": {
    "deletable": true,
    "editable": true
   },
   "source": [
    "### Batches\n",
    "Implement `get_batches` to create batches of input and targets using `int_text`.  The batches should be a Numpy array with the shape `(number of batches, 2, batch size, sequence length)`. Each batch contains two elements:\n",
    "- The first element is a single batch of **input** with the shape `[batch size, sequence length]`\n",
    "- The second element is a single batch of **targets** with the shape `[batch size, sequence length]`\n",
    "\n",
    "If you can't fill the last batch with enough data, drop the last batch.\n",
    "\n",
    "For exmple, `get_batches([1, 2, 3, 4, 5, 6, 7, 8, 9, 10, 11, 12, 13, 14, 15, 16, 17, 18, 19, 20], 3, 2)` would return a Numpy array of the following:\n",
    "```\n",
    "[\n",
    "  # First Batch\n",
    "  [\n",
    "    # Batch of Input\n",
    "    [[ 1  2], [ 7  8], [13 14]]\n",
    "    # Batch of targets\n",
    "    [[ 2  3], [ 8  9], [14 15]]\n",
    "  ]\n",
    "\n",
    "  # Second Batch\n",
    "  [\n",
    "    # Batch of Input\n",
    "    [[ 3  4], [ 9 10], [15 16]]\n",
    "    # Batch of targets\n",
    "    [[ 4  5], [10 11], [16 17]]\n",
    "  ]\n",
    "\n",
    "  # Third Batch\n",
    "  [\n",
    "    # Batch of Input\n",
    "    [[ 5  6], [11 12], [17 18]]\n",
    "    # Batch of targets\n",
    "    [[ 6  7], [12 13], [18  1]]\n",
    "  ]\n",
    "]\n",
    "```\n",
    "\n",
    "Notice that the last target value in the last batch is the first input value of the first batch. In this case, `1`. This is a common technique used when creating sequence batches, although it is rather unintuitive."
   ]
  },
  {
   "cell_type": "code",
   "execution_count": 82,
   "metadata": {
    "collapsed": false,
    "deletable": true,
    "editable": true,
    "scrolled": true
   },
   "outputs": [
    {
     "name": "stdout",
     "output_type": "stream",
     "text": [
      "Tests Passed\n"
     ]
    }
   ],
   "source": [
    "def get_batches(int_text, batch_size, seq_length):\n",
    "    \"\"\"\n",
    "    Return batches of input and target\n",
    "    :param int_text: Text with the words replaced by their ids\n",
    "    :param batch_size: The size of batch\n",
    "    :param seq_length: The length of sequence\n",
    "    :return: Batches as a Numpy array\n",
    "    \"\"\"\n",
    "    batches = []\n",
    "    characters_per_batch = batch_size * seq_length\n",
    "    n_batches = len(int_text)//characters_per_batch\n",
    "    \n",
    "    # Keep only enough characters to make full batches\n",
    "    int_text = np.array(int_text[:n_batches * characters_per_batch])\n",
    "    \n",
    "    # Reshape into batch_size rows\n",
    "    int_text = int_text.reshape((batch_size, -1))\n",
    "    \n",
    "    for n in range(0, int_text.shape[1], seq_length):\n",
    "        # The features\n",
    "        x = int_text[:, n:n + seq_length]\n",
    "        # The targets, shifted by one\n",
    "        y_temp = int_text[:, n+1:n+seq_length+1]\n",
    "        \n",
    "        y = np.zeros(x.shape, dtype=x.dtype)\n",
    "        y[:, :y_temp.shape[1]] = y_temp\n",
    "\n",
    "        batches.append([x, y])\n",
    "\n",
    "    return np.array(batches)\n",
    "\n",
    "\n",
    "\"\"\"\n",
    "DON'T MODIFY ANYTHING IN THIS CELL THAT IS BELOW THIS LINE\n",
    "\"\"\"\n",
    "tests.test_get_batches(get_batches)"
   ]
  },
  {
   "cell_type": "markdown",
   "metadata": {
    "deletable": true,
    "editable": true
   },
   "source": [
    "## Neural Network Training\n",
    "### Hyperparameters\n",
    "Tune the following parameters:\n",
    "\n",
    "- Set `num_epochs` to the number of epochs.\n",
    "- Set `batch_size` to the batch size.\n",
    "- Set `rnn_size` to the size of the RNNs.\n",
    "- Set `embed_dim` to the size of the embedding.\n",
    "- Set `seq_length` to the length of sequence.\n",
    "- Set `learning_rate` to the learning rate.\n",
    "- Set `show_every_n_batches` to the number of batches the neural network should print progress."
   ]
  },
  {
   "cell_type": "code",
   "execution_count": 83,
   "metadata": {
    "collapsed": true,
    "deletable": true,
    "editable": true
   },
   "outputs": [],
   "source": [
    "# Number of Epochs\n",
    "num_epochs = 200\n",
    "# Batch Size\n",
    "batch_size = 128\n",
    "# batch_size = 10\n",
    "# RNN Size\n",
    "rnn_size = 512\n",
    "# Embedding Dimension Size\n",
    "embed_dim = 256\n",
    "# embed_dim = 50\n",
    "# Sequence Length\n",
    "seq_length = 32\n",
    "# seq_length = 5\n",
    "# Learning Rate\n",
    "learning_rate = 0.001\n",
    "# Show stats for every n number of batches\n",
    "show_every_n_batches = 8\n",
    "\n",
    "\"\"\"\n",
    "DON'T MODIFY ANYTHING IN THIS CELL THAT IS BELOW THIS LINE\n",
    "\"\"\"\n",
    "save_dir = './save'"
   ]
  },
  {
   "cell_type": "markdown",
   "metadata": {
    "deletable": true,
    "editable": true
   },
   "source": [
    "### Build the Graph\n",
    "Build the graph using the neural network you implemented."
   ]
  },
  {
   "cell_type": "code",
   "execution_count": 84,
   "metadata": {
    "collapsed": false,
    "deletable": true,
    "editable": true
   },
   "outputs": [],
   "source": [
    "\"\"\"\n",
    "DON'T MODIFY ANYTHING IN THIS CELL\n",
    "\"\"\"\n",
    "from tensorflow.contrib import seq2seq\n",
    "\n",
    "train_graph = tf.Graph()\n",
    "with train_graph.as_default():\n",
    "    vocab_size = len(int_to_vocab)\n",
    "    input_text, targets, lr = get_inputs()\n",
    "    input_data_shape = tf.shape(input_text)\n",
    "    cell, initial_state = get_init_cell(input_data_shape[0], rnn_size)\n",
    "    logits, final_state = build_nn(cell, rnn_size, input_text, vocab_size, embed_dim)\n",
    "\n",
    "    # Probabilities for generating words\n",
    "    probs = tf.nn.softmax(logits, name='probs')\n",
    "\n",
    "    # Loss function\n",
    "    cost = seq2seq.sequence_loss(\n",
    "        logits,\n",
    "        targets,\n",
    "        tf.ones([input_data_shape[0], input_data_shape[1]]))\n",
    "\n",
    "    # Optimizer\n",
    "    optimizer = tf.train.AdamOptimizer(lr)\n",
    "\n",
    "    # Gradient Clipping\n",
    "    gradients = optimizer.compute_gradients(cost)\n",
    "    capped_gradients = [(tf.clip_by_value(grad, -1., 1.), var) for grad, var in gradients if grad is not None]\n",
    "    train_op = optimizer.apply_gradients(capped_gradients)"
   ]
  },
  {
   "cell_type": "markdown",
   "metadata": {
    "deletable": true,
    "editable": true
   },
   "source": [
    "## Train\n",
    "Train the neural network on the preprocessed data.  If you have a hard time getting a good loss, check the [forums](https://discussions.udacity.com/) to see if anyone is having the same problem."
   ]
  },
  {
   "cell_type": "code",
   "execution_count": 85,
   "metadata": {
    "collapsed": false,
    "deletable": true,
    "editable": true
   },
   "outputs": [
    {
     "name": "stdout",
     "output_type": "stream",
     "text": [
      "Epoch   0 Batch    0/16   train_loss = 8.822\n",
      "Epoch   0 Batch    8/16   train_loss = 6.363\n",
      "Epoch   1 Batch    0/16   train_loss = 6.333\n",
      "Epoch   1 Batch    8/16   train_loss = 6.079\n",
      "Epoch   2 Batch    0/16   train_loss = 6.098\n",
      "Epoch   2 Batch    8/16   train_loss = 6.065\n",
      "Epoch   3 Batch    0/16   train_loss = 6.005\n",
      "Epoch   3 Batch    8/16   train_loss = 6.062\n",
      "Epoch   4 Batch    0/16   train_loss = 5.984\n",
      "Epoch   4 Batch    8/16   train_loss = 6.047\n",
      "Epoch   5 Batch    0/16   train_loss = 5.979\n",
      "Epoch   5 Batch    8/16   train_loss = 6.035\n",
      "Epoch   6 Batch    0/16   train_loss = 5.976\n",
      "Epoch   6 Batch    8/16   train_loss = 6.027\n",
      "Epoch   7 Batch    0/16   train_loss = 5.961\n",
      "Epoch   7 Batch    8/16   train_loss = 6.001\n",
      "Epoch   8 Batch    0/16   train_loss = 5.923\n",
      "Epoch   8 Batch    8/16   train_loss = 5.949\n",
      "Epoch   9 Batch    0/16   train_loss = 5.851\n",
      "Epoch   9 Batch    8/16   train_loss = 5.882\n",
      "Epoch  10 Batch    0/16   train_loss = 5.785\n",
      "Epoch  10 Batch    8/16   train_loss = 5.819\n",
      "Epoch  11 Batch    0/16   train_loss = 5.730\n",
      "Epoch  11 Batch    8/16   train_loss = 5.773\n",
      "Epoch  12 Batch    0/16   train_loss = 5.690\n",
      "Epoch  12 Batch    8/16   train_loss = 5.735\n",
      "Epoch  13 Batch    0/16   train_loss = 5.646\n",
      "Epoch  13 Batch    8/16   train_loss = 5.699\n",
      "Epoch  14 Batch    0/16   train_loss = 5.607\n",
      "Epoch  14 Batch    8/16   train_loss = 5.660\n",
      "Epoch  15 Batch    0/16   train_loss = 5.566\n",
      "Epoch  15 Batch    8/16   train_loss = 5.618\n",
      "Epoch  16 Batch    0/16   train_loss = 5.526\n",
      "Epoch  16 Batch    8/16   train_loss = 5.581\n",
      "Epoch  17 Batch    0/16   train_loss = 5.483\n",
      "Epoch  17 Batch    8/16   train_loss = 5.538\n",
      "Epoch  18 Batch    0/16   train_loss = 5.444\n",
      "Epoch  18 Batch    8/16   train_loss = 5.502\n",
      "Epoch  19 Batch    0/16   train_loss = 5.401\n",
      "Epoch  19 Batch    8/16   train_loss = 5.463\n",
      "Epoch  20 Batch    0/16   train_loss = 5.359\n",
      "Epoch  20 Batch    8/16   train_loss = 5.426\n",
      "Epoch  21 Batch    0/16   train_loss = 5.318\n",
      "Epoch  21 Batch    8/16   train_loss = 5.382\n",
      "Epoch  22 Batch    0/16   train_loss = 5.272\n",
      "Epoch  22 Batch    8/16   train_loss = 5.339\n",
      "Epoch  23 Batch    0/16   train_loss = 5.224\n",
      "Epoch  23 Batch    8/16   train_loss = 5.292\n",
      "Epoch  24 Batch    0/16   train_loss = 5.167\n",
      "Epoch  24 Batch    8/16   train_loss = 5.231\n",
      "Epoch  25 Batch    0/16   train_loss = 5.113\n",
      "Epoch  25 Batch    8/16   train_loss = 5.166\n",
      "Epoch  26 Batch    0/16   train_loss = 5.053\n",
      "Epoch  26 Batch    8/16   train_loss = 5.105\n",
      "Epoch  27 Batch    0/16   train_loss = 4.992\n",
      "Epoch  27 Batch    8/16   train_loss = 5.050\n",
      "Epoch  28 Batch    0/16   train_loss = 4.942\n",
      "Epoch  28 Batch    8/16   train_loss = 5.002\n",
      "Epoch  29 Batch    0/16   train_loss = 4.883\n",
      "Epoch  29 Batch    8/16   train_loss = 4.938\n",
      "Epoch  30 Batch    0/16   train_loss = 4.833\n",
      "Epoch  30 Batch    8/16   train_loss = 4.889\n",
      "Epoch  31 Batch    0/16   train_loss = 4.785\n",
      "Epoch  31 Batch    8/16   train_loss = 4.846\n",
      "Epoch  32 Batch    0/16   train_loss = 4.744\n",
      "Epoch  32 Batch    8/16   train_loss = 4.800\n",
      "Epoch  33 Batch    0/16   train_loss = 4.695\n",
      "Epoch  33 Batch    8/16   train_loss = 4.750\n",
      "Epoch  34 Batch    0/16   train_loss = 4.646\n",
      "Epoch  34 Batch    8/16   train_loss = 4.709\n",
      "Epoch  35 Batch    0/16   train_loss = 4.612\n",
      "Epoch  35 Batch    8/16   train_loss = 4.670\n",
      "Epoch  36 Batch    0/16   train_loss = 4.566\n",
      "Epoch  36 Batch    8/16   train_loss = 4.655\n",
      "Epoch  37 Batch    0/16   train_loss = 4.529\n",
      "Epoch  37 Batch    8/16   train_loss = 4.605\n",
      "Epoch  38 Batch    0/16   train_loss = 4.504\n",
      "Epoch  38 Batch    8/16   train_loss = 4.581\n",
      "Epoch  39 Batch    0/16   train_loss = 4.472\n",
      "Epoch  39 Batch    8/16   train_loss = 4.563\n",
      "Epoch  40 Batch    0/16   train_loss = 4.456\n",
      "Epoch  40 Batch    8/16   train_loss = 4.527\n",
      "Epoch  41 Batch    0/16   train_loss = 4.440\n",
      "Epoch  41 Batch    8/16   train_loss = 4.523\n",
      "Epoch  42 Batch    0/16   train_loss = 4.395\n",
      "Epoch  42 Batch    8/16   train_loss = 4.456\n",
      "Epoch  43 Batch    0/16   train_loss = 4.345\n",
      "Epoch  43 Batch    8/16   train_loss = 4.413\n",
      "Epoch  44 Batch    0/16   train_loss = 4.304\n",
      "Epoch  44 Batch    8/16   train_loss = 4.379\n",
      "Epoch  45 Batch    0/16   train_loss = 4.270\n",
      "Epoch  45 Batch    8/16   train_loss = 4.347\n",
      "Epoch  46 Batch    0/16   train_loss = 4.238\n",
      "Epoch  46 Batch    8/16   train_loss = 4.315\n",
      "Epoch  47 Batch    0/16   train_loss = 4.207\n",
      "Epoch  47 Batch    8/16   train_loss = 4.284\n",
      "Epoch  48 Batch    0/16   train_loss = 4.178\n",
      "Epoch  48 Batch    8/16   train_loss = 4.252\n",
      "Epoch  49 Batch    0/16   train_loss = 4.148\n",
      "Epoch  49 Batch    8/16   train_loss = 4.226\n",
      "Epoch  50 Batch    0/16   train_loss = 4.118\n",
      "Epoch  50 Batch    8/16   train_loss = 4.205\n",
      "Epoch  51 Batch    0/16   train_loss = 4.089\n",
      "Epoch  51 Batch    8/16   train_loss = 4.171\n",
      "Epoch  52 Batch    0/16   train_loss = 4.081\n",
      "Epoch  52 Batch    8/16   train_loss = 4.169\n",
      "Epoch  53 Batch    0/16   train_loss = 4.102\n",
      "Epoch  53 Batch    8/16   train_loss = 4.153\n",
      "Epoch  54 Batch    0/16   train_loss = 4.032\n",
      "Epoch  54 Batch    8/16   train_loss = 4.128\n",
      "Epoch  55 Batch    0/16   train_loss = 4.018\n",
      "Epoch  55 Batch    8/16   train_loss = 4.101\n",
      "Epoch  56 Batch    0/16   train_loss = 3.993\n",
      "Epoch  56 Batch    8/16   train_loss = 4.084\n",
      "Epoch  57 Batch    0/16   train_loss = 4.036\n",
      "Epoch  57 Batch    8/16   train_loss = 4.084\n",
      "Epoch  58 Batch    0/16   train_loss = 3.956\n",
      "Epoch  58 Batch    8/16   train_loss = 4.035\n",
      "Epoch  59 Batch    0/16   train_loss = 3.971\n",
      "Epoch  59 Batch    8/16   train_loss = 4.045\n",
      "Epoch  60 Batch    0/16   train_loss = 3.906\n",
      "Epoch  60 Batch    8/16   train_loss = 3.952\n",
      "Epoch  61 Batch    0/16   train_loss = 3.838\n",
      "Epoch  61 Batch    8/16   train_loss = 3.917\n",
      "Epoch  62 Batch    0/16   train_loss = 3.813\n",
      "Epoch  62 Batch    8/16   train_loss = 3.892\n",
      "Epoch  63 Batch    0/16   train_loss = 3.779\n",
      "Epoch  63 Batch    8/16   train_loss = 3.858\n",
      "Epoch  64 Batch    0/16   train_loss = 3.747\n",
      "Epoch  64 Batch    8/16   train_loss = 3.833\n",
      "Epoch  65 Batch    0/16   train_loss = 3.743\n",
      "Epoch  65 Batch    8/16   train_loss = 3.830\n",
      "Epoch  66 Batch    0/16   train_loss = 3.732\n",
      "Epoch  66 Batch    8/16   train_loss = 3.783\n",
      "Epoch  67 Batch    0/16   train_loss = 3.676\n",
      "Epoch  67 Batch    8/16   train_loss = 3.799\n",
      "Epoch  68 Batch    0/16   train_loss = 3.681\n",
      "Epoch  68 Batch    8/16   train_loss = 3.738\n",
      "Epoch  69 Batch    0/16   train_loss = 3.626\n",
      "Epoch  69 Batch    8/16   train_loss = 3.720\n",
      "Epoch  70 Batch    0/16   train_loss = 3.616\n",
      "Epoch  70 Batch    8/16   train_loss = 3.687\n",
      "Epoch  71 Batch    0/16   train_loss = 3.584\n",
      "Epoch  71 Batch    8/16   train_loss = 3.692\n",
      "Epoch  72 Batch    0/16   train_loss = 3.573\n",
      "Epoch  72 Batch    8/16   train_loss = 3.664\n",
      "Epoch  73 Batch    0/16   train_loss = 3.540\n",
      "Epoch  73 Batch    8/16   train_loss = 3.625\n",
      "Epoch  74 Batch    0/16   train_loss = 3.609\n",
      "Epoch  74 Batch    8/16   train_loss = 3.668\n",
      "Epoch  75 Batch    0/16   train_loss = 3.489\n",
      "Epoch  75 Batch    8/16   train_loss = 3.559\n",
      "Epoch  76 Batch    0/16   train_loss = 3.437\n",
      "Epoch  76 Batch    8/16   train_loss = 3.509\n",
      "Epoch  77 Batch    0/16   train_loss = 3.412\n",
      "Epoch  77 Batch    8/16   train_loss = 3.480\n",
      "Epoch  78 Batch    0/16   train_loss = 3.379\n",
      "Epoch  78 Batch    8/16   train_loss = 3.446\n",
      "Epoch  79 Batch    0/16   train_loss = 3.332\n",
      "Epoch  79 Batch    8/16   train_loss = 3.406\n",
      "Epoch  80 Batch    0/16   train_loss = 3.295\n",
      "Epoch  80 Batch    8/16   train_loss = 3.373\n",
      "Epoch  81 Batch    0/16   train_loss = 3.265\n",
      "Epoch  81 Batch    8/16   train_loss = 3.347\n",
      "Epoch  82 Batch    0/16   train_loss = 3.243\n",
      "Epoch  82 Batch    8/16   train_loss = 3.324\n",
      "Epoch  83 Batch    0/16   train_loss = 3.236\n",
      "Epoch  83 Batch    8/16   train_loss = 3.313\n",
      "Epoch  84 Batch    0/16   train_loss = 3.231\n",
      "Epoch  84 Batch    8/16   train_loss = 3.325\n",
      "Epoch  85 Batch    0/16   train_loss = 3.289\n",
      "Epoch  85 Batch    8/16   train_loss = 3.292\n",
      "Epoch  86 Batch    0/16   train_loss = 3.182\n",
      "Epoch  86 Batch    8/16   train_loss = 3.251\n",
      "Epoch  87 Batch    0/16   train_loss = 3.142\n",
      "Epoch  87 Batch    8/16   train_loss = 3.217\n",
      "Epoch  88 Batch    0/16   train_loss = 3.088\n",
      "Epoch  88 Batch    8/16   train_loss = 3.159\n",
      "Epoch  89 Batch    0/16   train_loss = 3.084\n",
      "Epoch  89 Batch    8/16   train_loss = 3.145\n",
      "Epoch  90 Batch    0/16   train_loss = 3.046\n",
      "Epoch  90 Batch    8/16   train_loss = 3.095\n",
      "Epoch  91 Batch    0/16   train_loss = 2.999\n",
      "Epoch  91 Batch    8/16   train_loss = 3.098\n",
      "Epoch  92 Batch    0/16   train_loss = 3.006\n",
      "Epoch  92 Batch    8/16   train_loss = 3.109\n",
      "Epoch  93 Batch    0/16   train_loss = 2.957\n",
      "Epoch  93 Batch    8/16   train_loss = 3.024\n",
      "Epoch  94 Batch    0/16   train_loss = 2.934\n",
      "Epoch  94 Batch    8/16   train_loss = 2.976\n",
      "Epoch  95 Batch    0/16   train_loss = 2.864\n",
      "Epoch  95 Batch    8/16   train_loss = 2.917\n",
      "Epoch  96 Batch    0/16   train_loss = 2.807\n",
      "Epoch  96 Batch    8/16   train_loss = 2.874\n",
      "Epoch  97 Batch    0/16   train_loss = 2.781\n",
      "Epoch  97 Batch    8/16   train_loss = 2.836\n",
      "Epoch  98 Batch    0/16   train_loss = 2.766\n",
      "Epoch  98 Batch    8/16   train_loss = 2.827\n",
      "Epoch  99 Batch    0/16   train_loss = 2.767\n",
      "Epoch  99 Batch    8/16   train_loss = 2.810\n",
      "Epoch 100 Batch    0/16   train_loss = 2.718\n",
      "Epoch 100 Batch    8/16   train_loss = 2.805\n",
      "Epoch 101 Batch    0/16   train_loss = 2.702\n",
      "Epoch 101 Batch    8/16   train_loss = 2.778\n",
      "Epoch 102 Batch    0/16   train_loss = 2.702\n",
      "Epoch 102 Batch    8/16   train_loss = 2.755\n",
      "Epoch 103 Batch    0/16   train_loss = 2.622\n",
      "Epoch 103 Batch    8/16   train_loss = 2.684\n",
      "Epoch 104 Batch    0/16   train_loss = 2.631\n",
      "Epoch 104 Batch    8/16   train_loss = 2.646\n",
      "Epoch 105 Batch    0/16   train_loss = 2.555\n",
      "Epoch 105 Batch    8/16   train_loss = 2.614\n",
      "Epoch 106 Batch    0/16   train_loss = 2.530\n",
      "Epoch 106 Batch    8/16   train_loss = 2.571\n",
      "Epoch 107 Batch    0/16   train_loss = 2.487\n",
      "Epoch 107 Batch    8/16   train_loss = 2.538\n",
      "Epoch 108 Batch    0/16   train_loss = 2.490\n",
      "Epoch 108 Batch    8/16   train_loss = 2.537\n",
      "Epoch 109 Batch    0/16   train_loss = 2.473\n",
      "Epoch 109 Batch    8/16   train_loss = 2.543\n",
      "Epoch 110 Batch    0/16   train_loss = 2.480\n",
      "Epoch 110 Batch    8/16   train_loss = 2.496\n",
      "Epoch 111 Batch    0/16   train_loss = 2.410\n",
      "Epoch 111 Batch    8/16   train_loss = 2.436\n",
      "Epoch 112 Batch    0/16   train_loss = 2.369\n",
      "Epoch 112 Batch    8/16   train_loss = 2.389\n",
      "Epoch 113 Batch    0/16   train_loss = 2.317\n",
      "Epoch 113 Batch    8/16   train_loss = 2.332\n",
      "Epoch 114 Batch    0/16   train_loss = 2.262\n",
      "Epoch 114 Batch    8/16   train_loss = 2.302\n",
      "Epoch 115 Batch    0/16   train_loss = 2.231\n",
      "Epoch 115 Batch    8/16   train_loss = 2.250\n",
      "Epoch 116 Batch    0/16   train_loss = 2.204\n",
      "Epoch 116 Batch    8/16   train_loss = 2.247\n",
      "Epoch 117 Batch    0/16   train_loss = 2.214\n",
      "Epoch 117 Batch    8/16   train_loss = 2.262\n",
      "Epoch 118 Batch    0/16   train_loss = 2.236\n",
      "Epoch 118 Batch    8/16   train_loss = 2.300\n",
      "Epoch 119 Batch    0/16   train_loss = 2.280\n",
      "Epoch 119 Batch    8/16   train_loss = 2.297\n",
      "Epoch 120 Batch    0/16   train_loss = 2.275\n",
      "Epoch 120 Batch    8/16   train_loss = 2.300\n",
      "Epoch 121 Batch    0/16   train_loss = 2.268\n",
      "Epoch 121 Batch    8/16   train_loss = 2.249\n",
      "Epoch 122 Batch    0/16   train_loss = 2.170\n",
      "Epoch 122 Batch    8/16   train_loss = 2.180\n",
      "Epoch 123 Batch    0/16   train_loss = 2.098\n",
      "Epoch 123 Batch    8/16   train_loss = 2.094\n",
      "Epoch 124 Batch    0/16   train_loss = 2.015\n",
      "Epoch 124 Batch    8/16   train_loss = 2.037\n",
      "Epoch 125 Batch    0/16   train_loss = 1.983\n",
      "Epoch 125 Batch    8/16   train_loss = 1.974\n",
      "Epoch 126 Batch    0/16   train_loss = 1.922\n",
      "Epoch 126 Batch    8/16   train_loss = 1.923\n",
      "Epoch 127 Batch    0/16   train_loss = 1.884\n",
      "Epoch 127 Batch    8/16   train_loss = 1.894\n",
      "Epoch 128 Batch    0/16   train_loss = 1.854\n",
      "Epoch 128 Batch    8/16   train_loss = 1.853\n",
      "Epoch 129 Batch    0/16   train_loss = 1.802\n",
      "Epoch 129 Batch    8/16   train_loss = 1.822\n",
      "Epoch 130 Batch    0/16   train_loss = 1.787\n",
      "Epoch 130 Batch    8/16   train_loss = 1.811\n",
      "Epoch 131 Batch    0/16   train_loss = 1.776\n",
      "Epoch 131 Batch    8/16   train_loss = 1.804\n",
      "Epoch 132 Batch    0/16   train_loss = 1.762\n",
      "Epoch 132 Batch    8/16   train_loss = 1.777\n",
      "Epoch 133 Batch    0/16   train_loss = 1.758\n",
      "Epoch 133 Batch    8/16   train_loss = 1.776\n",
      "Epoch 134 Batch    0/16   train_loss = 1.743\n",
      "Epoch 134 Batch    8/16   train_loss = 1.776\n",
      "Epoch 135 Batch    0/16   train_loss = 1.764\n",
      "Epoch 135 Batch    8/16   train_loss = 1.743\n",
      "Epoch 136 Batch    0/16   train_loss = 1.718\n",
      "Epoch 136 Batch    8/16   train_loss = 1.787\n",
      "Epoch 137 Batch    0/16   train_loss = 1.738\n",
      "Epoch 137 Batch    8/16   train_loss = 1.760\n",
      "Epoch 138 Batch    0/16   train_loss = 1.724\n",
      "Epoch 138 Batch    8/16   train_loss = 1.750\n",
      "Epoch 139 Batch    0/16   train_loss = 1.743\n",
      "Epoch 139 Batch    8/16   train_loss = 1.718\n",
      "Epoch 140 Batch    0/16   train_loss = 1.702\n",
      "Epoch 140 Batch    8/16   train_loss = 1.704\n",
      "Epoch 141 Batch    0/16   train_loss = 1.699\n",
      "Epoch 141 Batch    8/16   train_loss = 1.763\n",
      "Epoch 142 Batch    0/16   train_loss = 1.722\n",
      "Epoch 142 Batch    8/16   train_loss = 1.772\n",
      "Epoch 143 Batch    0/16   train_loss = 1.730\n",
      "Epoch 143 Batch    8/16   train_loss = 1.749\n",
      "Epoch 144 Batch    0/16   train_loss = 1.655\n",
      "Epoch 144 Batch    8/16   train_loss = 1.664\n",
      "Epoch 145 Batch    0/16   train_loss = 1.570\n",
      "Epoch 145 Batch    8/16   train_loss = 1.552\n",
      "Epoch 146 Batch    0/16   train_loss = 1.468\n",
      "Epoch 146 Batch    8/16   train_loss = 1.478\n",
      "Epoch 147 Batch    0/16   train_loss = 1.423\n",
      "Epoch 147 Batch    8/16   train_loss = 1.436\n",
      "Epoch 148 Batch    0/16   train_loss = 1.386\n",
      "Epoch 148 Batch    8/16   train_loss = 1.397\n",
      "Epoch 149 Batch    0/16   train_loss = 1.375\n",
      "Epoch 149 Batch    8/16   train_loss = 1.388\n",
      "Epoch 150 Batch    0/16   train_loss = 1.372\n",
      "Epoch 150 Batch    8/16   train_loss = 1.374\n",
      "Epoch 151 Batch    0/16   train_loss = 1.331\n",
      "Epoch 151 Batch    8/16   train_loss = 1.340\n",
      "Epoch 152 Batch    0/16   train_loss = 1.311\n",
      "Epoch 152 Batch    8/16   train_loss = 1.346\n",
      "Epoch 153 Batch    0/16   train_loss = 1.387\n",
      "Epoch 153 Batch    8/16   train_loss = 1.427\n",
      "Epoch 154 Batch    0/16   train_loss = 1.444\n",
      "Epoch 154 Batch    8/16   train_loss = 1.483\n",
      "Epoch 155 Batch    0/16   train_loss = 1.416\n",
      "Epoch 155 Batch    8/16   train_loss = 1.416\n",
      "Epoch 156 Batch    0/16   train_loss = 1.349\n",
      "Epoch 156 Batch    8/16   train_loss = 1.378\n",
      "Epoch 157 Batch    0/16   train_loss = 1.340\n",
      "Epoch 157 Batch    8/16   train_loss = 1.393\n",
      "Epoch 158 Batch    0/16   train_loss = 1.362\n",
      "Epoch 158 Batch    8/16   train_loss = 1.376\n",
      "Epoch 159 Batch    0/16   train_loss = 1.312\n",
      "Epoch 159 Batch    8/16   train_loss = 1.307\n",
      "Epoch 160 Batch    0/16   train_loss = 1.231\n",
      "Epoch 160 Batch    8/16   train_loss = 1.237\n",
      "Epoch 161 Batch    0/16   train_loss = 1.235\n",
      "Epoch 161 Batch    8/16   train_loss = 1.287\n",
      "Epoch 162 Batch    0/16   train_loss = 1.330\n",
      "Epoch 162 Batch    8/16   train_loss = 1.379\n",
      "Epoch 163 Batch    0/16   train_loss = 1.377\n",
      "Epoch 163 Batch    8/16   train_loss = 1.346\n",
      "Epoch 164 Batch    0/16   train_loss = 1.307\n",
      "Epoch 164 Batch    8/16   train_loss = 1.235\n",
      "Epoch 165 Batch    0/16   train_loss = 1.171\n",
      "Epoch 165 Batch    8/16   train_loss = 1.131\n",
      "Epoch 166 Batch    0/16   train_loss = 1.108\n",
      "Epoch 166 Batch    8/16   train_loss = 1.107\n",
      "Epoch 167 Batch    0/16   train_loss = 1.057\n",
      "Epoch 167 Batch    8/16   train_loss = 1.037\n",
      "Epoch 168 Batch    0/16   train_loss = 1.002\n",
      "Epoch 168 Batch    8/16   train_loss = 1.004\n",
      "Epoch 169 Batch    0/16   train_loss = 0.970\n",
      "Epoch 169 Batch    8/16   train_loss = 0.966\n",
      "Epoch 170 Batch    0/16   train_loss = 0.937\n",
      "Epoch 170 Batch    8/16   train_loss = 0.933\n",
      "Epoch 171 Batch    0/16   train_loss = 0.910\n",
      "Epoch 171 Batch    8/16   train_loss = 0.910\n",
      "Epoch 172 Batch    0/16   train_loss = 0.889\n",
      "Epoch 172 Batch    8/16   train_loss = 0.888\n",
      "Epoch 173 Batch    0/16   train_loss = 0.872\n",
      "Epoch 173 Batch    8/16   train_loss = 0.873\n",
      "Epoch 174 Batch    0/16   train_loss = 0.861\n",
      "Epoch 174 Batch    8/16   train_loss = 0.859\n",
      "Epoch 175 Batch    0/16   train_loss = 0.845\n",
      "Epoch 175 Batch    8/16   train_loss = 0.844\n",
      "Epoch 176 Batch    0/16   train_loss = 0.830\n",
      "Epoch 176 Batch    8/16   train_loss = 0.833\n",
      "Epoch 177 Batch    0/16   train_loss = 0.824\n",
      "Epoch 177 Batch    8/16   train_loss = 0.825\n",
      "Epoch 178 Batch    0/16   train_loss = 0.807\n",
      "Epoch 178 Batch    8/16   train_loss = 0.813\n",
      "Epoch 179 Batch    0/16   train_loss = 0.801\n",
      "Epoch 179 Batch    8/16   train_loss = 0.803\n",
      "Epoch 180 Batch    0/16   train_loss = 0.797\n",
      "Epoch 180 Batch    8/16   train_loss = 0.805\n",
      "Epoch 181 Batch    0/16   train_loss = 0.794\n",
      "Epoch 181 Batch    8/16   train_loss = 0.811\n",
      "Epoch 182 Batch    0/16   train_loss = 0.819\n",
      "Epoch 182 Batch    8/16   train_loss = 0.819\n",
      "Epoch 183 Batch    0/16   train_loss = 0.831\n",
      "Epoch 183 Batch    8/16   train_loss = 0.814\n",
      "Epoch 184 Batch    0/16   train_loss = 0.787\n",
      "Epoch 184 Batch    8/16   train_loss = 0.829\n",
      "Epoch 185 Batch    0/16   train_loss = 0.803\n",
      "Epoch 185 Batch    8/16   train_loss = 0.801\n",
      "Epoch 186 Batch    0/16   train_loss = 0.831\n",
      "Epoch 186 Batch    8/16   train_loss = 0.839\n",
      "Epoch 187 Batch    0/16   train_loss = 0.837\n",
      "Epoch 187 Batch    8/16   train_loss = 0.891\n",
      "Epoch 188 Batch    0/16   train_loss = 0.878\n",
      "Epoch 188 Batch    8/16   train_loss = 0.853\n",
      "Epoch 189 Batch    0/16   train_loss = 0.849\n",
      "Epoch 189 Batch    8/16   train_loss = 0.865\n",
      "Epoch 190 Batch    0/16   train_loss = 0.848\n",
      "Epoch 190 Batch    8/16   train_loss = 0.846\n",
      "Epoch 191 Batch    0/16   train_loss = 0.803\n",
      "Epoch 191 Batch    8/16   train_loss = 0.782\n",
      "Epoch 192 Batch    0/16   train_loss = 0.813\n",
      "Epoch 192 Batch    8/16   train_loss = 0.862\n",
      "Epoch 193 Batch    0/16   train_loss = 0.983\n",
      "Epoch 193 Batch    8/16   train_loss = 0.999\n",
      "Epoch 194 Batch    0/16   train_loss = 1.024\n",
      "Epoch 194 Batch    8/16   train_loss = 0.931\n",
      "Epoch 195 Batch    0/16   train_loss = 0.848\n",
      "Epoch 195 Batch    8/16   train_loss = 0.749\n",
      "Epoch 196 Batch    0/16   train_loss = 0.707\n",
      "Epoch 196 Batch    8/16   train_loss = 0.683\n",
      "Epoch 197 Batch    0/16   train_loss = 0.671\n",
      "Epoch 197 Batch    8/16   train_loss = 0.677\n",
      "Epoch 198 Batch    0/16   train_loss = 0.677\n",
      "Epoch 198 Batch    8/16   train_loss = 0.652\n",
      "Epoch 199 Batch    0/16   train_loss = 0.639\n",
      "Epoch 199 Batch    8/16   train_loss = 0.621\n",
      "Model Trained and Saved\n"
     ]
    }
   ],
   "source": [
    "\"\"\"\n",
    "DON'T MODIFY ANYTHING IN THIS CELL\n",
    "\"\"\"\n",
    "batches = get_batches(int_text, batch_size, seq_length)\n",
    "\n",
    "with tf.Session(graph=train_graph) as sess:\n",
    "    sess.run(tf.global_variables_initializer())\n",
    "\n",
    "    for epoch_i in range(num_epochs):\n",
    "        state = sess.run(initial_state, {input_text: batches[0][0]})\n",
    "\n",
    "        for batch_i, (x, y) in enumerate(batches):\n",
    "            feed = {\n",
    "                input_text: x,\n",
    "                targets: y,\n",
    "                initial_state: state,\n",
    "                lr: learning_rate}\n",
    "            train_loss, state, _ = sess.run([cost, final_state, train_op], feed)\n",
    "\n",
    "            # Show every <show_every_n_batches> batches\n",
    "            if (epoch_i * len(batches) + batch_i) % show_every_n_batches == 0:\n",
    "                print('Epoch {:>3} Batch {:>4}/{}   train_loss = {:.3f}'.format(\n",
    "                    epoch_i,\n",
    "                    batch_i,\n",
    "                    len(batches),\n",
    "                    train_loss))\n",
    "\n",
    "    # Save Model\n",
    "    saver = tf.train.Saver()\n",
    "    saver.save(sess, save_dir)\n",
    "    print('Model Trained and Saved')"
   ]
  },
  {
   "cell_type": "markdown",
   "metadata": {
    "deletable": true,
    "editable": true
   },
   "source": [
    "## Save Parameters\n",
    "Save `seq_length` and `save_dir` for generating a new TV script."
   ]
  },
  {
   "cell_type": "code",
   "execution_count": 86,
   "metadata": {
    "collapsed": false,
    "deletable": true,
    "editable": true
   },
   "outputs": [],
   "source": [
    "\"\"\"\n",
    "DON'T MODIFY ANYTHING IN THIS CELL\n",
    "\"\"\"\n",
    "# Save parameters for checkpoint\n",
    "helper.save_params((seq_length, save_dir))"
   ]
  },
  {
   "cell_type": "markdown",
   "metadata": {
    "deletable": true,
    "editable": true
   },
   "source": [
    "# Checkpoint"
   ]
  },
  {
   "cell_type": "code",
   "execution_count": 87,
   "metadata": {
    "collapsed": false,
    "deletable": true,
    "editable": true
   },
   "outputs": [],
   "source": [
    "\"\"\"\n",
    "DON'T MODIFY ANYTHING IN THIS CELL\n",
    "\"\"\"\n",
    "import tensorflow as tf\n",
    "import numpy as np\n",
    "import helper\n",
    "import problem_unittests as tests\n",
    "\n",
    "_, vocab_to_int, int_to_vocab, token_dict = helper.load_preprocess()\n",
    "seq_length, load_dir = helper.load_params()"
   ]
  },
  {
   "cell_type": "markdown",
   "metadata": {
    "deletable": true,
    "editable": true
   },
   "source": [
    "## Implement Generate Functions\n",
    "### Get Tensors\n",
    "Get tensors from `loaded_graph` using the function [`get_tensor_by_name()`](https://www.tensorflow.org/api_docs/python/tf/Graph#get_tensor_by_name).  Get the tensors using the following names:\n",
    "- \"input:0\"\n",
    "- \"initial_state:0\"\n",
    "- \"final_state:0\"\n",
    "- \"probs:0\"\n",
    "\n",
    "Return the tensors in the following tuple `(InputTensor, InitialStateTensor, FinalStateTensor, ProbsTensor)` "
   ]
  },
  {
   "cell_type": "code",
   "execution_count": 88,
   "metadata": {
    "collapsed": false,
    "deletable": true,
    "editable": true
   },
   "outputs": [
    {
     "name": "stdout",
     "output_type": "stream",
     "text": [
      "Tests Passed\n"
     ]
    }
   ],
   "source": [
    "def get_tensors(loaded_graph):\n",
    "    \"\"\"\n",
    "    Get input, initial state, final state, and probabilities tensor from <loaded_graph>\n",
    "    :param loaded_graph: TensorFlow graph loaded from file\n",
    "    :return: Tuple (InputTensor, InitialStateTensor, FinalStateTensor, ProbsTensor)\n",
    "    \"\"\"\n",
    "    input = loaded_graph.get_tensor_by_name('input:0')\n",
    "    init_state = loaded_graph.get_tensor_by_name('initial_state:0')\n",
    "    final_state = loaded_graph.get_tensor_by_name('final_state:0')\n",
    "    probs = loaded_graph.get_tensor_by_name('probs:0')\n",
    "\n",
    "    return input, init_state, final_state, probs\n",
    "\n",
    "\n",
    "\"\"\"\n",
    "DON'T MODIFY ANYTHING IN THIS CELL THAT IS BELOW THIS LINE\n",
    "\"\"\"\n",
    "tests.test_get_tensors(get_tensors)"
   ]
  },
  {
   "cell_type": "markdown",
   "metadata": {
    "deletable": true,
    "editable": true
   },
   "source": [
    "### Choose Word\n",
    "Implement the `pick_word()` function to select the next word using `probabilities`."
   ]
  },
  {
   "cell_type": "code",
   "execution_count": 89,
   "metadata": {
    "collapsed": false,
    "deletable": true,
    "editable": true
   },
   "outputs": [
    {
     "name": "stdout",
     "output_type": "stream",
     "text": [
      "Tests Passed\n"
     ]
    }
   ],
   "source": [
    "def pick_word(probabilities, int_to_vocab):\n",
    "    \"\"\"\n",
    "    Pick the next word in the generated text\n",
    "    :param probabilities: Probabilites of the next word\n",
    "    :param int_to_vocab: Dictionary of word ids as the keys and words as the values\n",
    "    :return: String of the predicted word\n",
    "    \"\"\"\n",
    "    return np.random.choice(list(int_to_vocab.values()), 1, p=probabilities)[0]\n",
    "\n",
    "\n",
    "\"\"\"\n",
    "DON'T MODIFY ANYTHING IN THIS CELL THAT IS BELOW THIS LINE\n",
    "\"\"\"\n",
    "tests.test_pick_word(pick_word)"
   ]
  },
  {
   "cell_type": "markdown",
   "metadata": {
    "deletable": true,
    "editable": true
   },
   "source": [
    "## Generate TV Script\n",
    "This will generate the TV script for you.  Set `gen_length` to the length of TV script you want to generate."
   ]
  },
  {
   "cell_type": "code",
   "execution_count": 94,
   "metadata": {
    "collapsed": false,
    "deletable": true,
    "editable": true
   },
   "outputs": [
    {
     "name": "stdout",
     "output_type": "stream",
     "text": [
      "INFO:tensorflow:Restoring parameters from ./save\n",
      "barney_gumble: just to the willy!\n",
      "chief_wiggum: moe, now really again!\n",
      "lenny_leonard:(amid nervous sees) simp-sonnnn!\n",
      "moe_szyslak: is ya upset with my drink has doing into the woman, but i'm true. we can say my back right times. the man will help 'em in?\n",
      "barney_gumble: quit on the game.\" she god, this bar's gonna are into the restroom.\n",
      "moe_szyslak: life, moe, don't buy when it drunk?(mimes marriage\" come on)(to barflies) oh, shut up!\n",
      "waylon_smithers: simpson, well, right!!\n",
      "\n",
      "\n",
      "homer_simpson: i had it! i'm starting?\n",
      "marge_simpson:(into phone) pit moe!\n",
      "moe_szyslak: sorry. i'm just upset i've got all right in the thousand american night, who did i used to use. and now, the buyer and sexy.\n",
      "moe_szyslak: ah, who took the guys tonight? oh right.(very looks around\" change through of no girl i've been sell in the back on my bed.\n",
      "homer_simpson:(excited) but yes. skinner.(dramatic)\"\n",
      "homer_simpson: a\" uh,) well, one.\n",
      "walther_hotenhoffer: and i could write a glove trip,\" man: the house-- and now,\" eventually,... finished,\" three once\n"
     ]
    },
    {
     "data": {
      "application/javascript": [
       "$(document).ready(\n",
       "    function() {\n",
       "        function appendUniqueDiv(){\n",
       "            // append a div with our uuid so we can check that it's already\n",
       "            // been sent and avoid duplicates on page reload\n",
       "            var notifiedDiv = document.createElement(\"div\")\n",
       "            notifiedDiv.id = \"36d7f949-d505-4b81-a1ae-1d65c48f43a8\"\n",
       "            element.append(notifiedDiv)\n",
       "        }\n",
       "\n",
       "        // only send notifications if the pageload is complete; this will\n",
       "        // help stop extra notifications when a saved notebook is loaded,\n",
       "        // which during testing gives us state \"interactive\", not \"complete\"\n",
       "        if (document.readyState === 'complete') {\n",
       "            // check for the div that signifies that the notification\n",
       "            // was already sent\n",
       "            if (document.getElementById(\"36d7f949-d505-4b81-a1ae-1d65c48f43a8\") === null) {\n",
       "                var notificationPayload = {\"requireInteraction\": false, \"icon\": \"/static/base/images/favicon.ico\", \"body\": \"Cell execution has finished!\"};\n",
       "                if (Notification.permission !== 'denied') {\n",
       "                    if (Notification.permission !== 'granted') { \n",
       "                        Notification.requestPermission(function (permission) {\n",
       "                            if(!('permission' in Notification)) {\n",
       "                                Notification.permission = permission\n",
       "                            }\n",
       "                        })\n",
       "                    }\n",
       "                    if (Notification.permission === 'granted') {\n",
       "                    var notification = new Notification(\"Jupyter Notebook\", notificationPayload)\n",
       "                    appendUniqueDiv()\n",
       "                    notification.onclick = function () {\n",
       "                        window.focus();\n",
       "                        this.close();\n",
       "                        };\n",
       "                    } \n",
       "                }     \n",
       "            }\n",
       "        }\n",
       "    }\n",
       ")\n"
      ],
      "text/plain": [
       "<IPython.core.display.Javascript object>"
      ]
     },
     "metadata": {},
     "output_type": "display_data"
    }
   ],
   "source": [
    "%%notify\n",
    "gen_length = 250\n",
    "# homer_simpson, moe_szyslak, or barney_gumble\n",
    "prime_word = 'barney_gumble'\n",
    "\n",
    "\"\"\"\n",
    "DON'T MODIFY ANYTHING IN THIS CELL THAT IS BELOW THIS LINE\n",
    "\"\"\"\n",
    "loaded_graph = tf.Graph()\n",
    "with tf.Session(graph=loaded_graph) as sess:\n",
    "    # Load saved model\n",
    "    loader = tf.train.import_meta_graph(load_dir + '.meta')\n",
    "    loader.restore(sess, load_dir)\n",
    "\n",
    "    # Get Tensors from loaded model\n",
    "    input_text, initial_state, final_state, probs = get_tensors(loaded_graph)\n",
    "\n",
    "    # Sentences generation setup\n",
    "    gen_sentences = [prime_word + ':']\n",
    "    prev_state = sess.run(initial_state, {input_text: np.array([[1]])})\n",
    "\n",
    "    # Generate sentences\n",
    "    for n in range(gen_length):\n",
    "        # Dynamic Input\n",
    "        dyn_input = [[vocab_to_int[word] for word in gen_sentences[-seq_length:]]]\n",
    "        dyn_seq_length = len(dyn_input[0])\n",
    "\n",
    "        # Get Prediction\n",
    "        probabilities, prev_state = sess.run(\n",
    "            [probs, final_state],\n",
    "            {input_text: dyn_input, initial_state: prev_state})\n",
    "        \n",
    "        pred_word = pick_word(probabilities[dyn_seq_length-1], int_to_vocab)\n",
    "\n",
    "        gen_sentences.append(pred_word)\n",
    "    \n",
    "    # Remove tokens\n",
    "    tv_script = ' '.join(gen_sentences)\n",
    "    for key, token in token_dict.items():\n",
    "        ending = ' ' if key in ['\\n', '(', '\"'] else ''\n",
    "        tv_script = tv_script.replace(' ' + token.lower(), key)\n",
    "    tv_script = tv_script.replace('\\n ', '\\n')\n",
    "    tv_script = tv_script.replace('( ', '(')\n",
    "        \n",
    "    print(tv_script)"
   ]
  },
  {
   "cell_type": "markdown",
   "metadata": {
    "deletable": true,
    "editable": true
   },
   "source": [
    "# The TV Script is Nonsensical\n",
    "It's ok if the TV script doesn't make any sense.  We trained on less than a megabyte of text.  In order to get good results, you'll have to use a smaller vocabulary or get more data.  Luckly there's more data!  As we mentioned in the begging of this project, this is a subset of [another dataset](https://www.kaggle.com/wcukierski/the-simpsons-by-the-data).  We didn't have you train on all the data, because that would take too long.  However, you are free to train your neural network on all the data.  After you complete the project, of course.\n",
    "# Submitting This Project\n",
    "When submitting this project, make sure to run all the cells before saving the notebook. Save the notebook file as \"dlnd_tv_script_generation.ipynb\" and save it as a HTML file under \"File\" -> \"Download as\". Include the \"helper.py\" and \"problem_unittests.py\" files in your submission."
   ]
  }
 ],
 "metadata": {
  "kernelspec": {
   "display_name": "Python 3",
   "language": "python",
   "name": "python3"
  },
  "language_info": {
   "codemirror_mode": {
    "name": "ipython",
    "version": 3
   },
   "file_extension": ".py",
   "mimetype": "text/x-python",
   "name": "python",
   "nbconvert_exporter": "python",
   "pygments_lexer": "ipython3",
   "version": "3.6.2"
  },
  "widgets": {
   "state": {},
   "version": "1.1.2"
  }
 },
 "nbformat": 4,
 "nbformat_minor": 0
}
